{
  "nbformat": 4,
  "nbformat_minor": 0,
  "metadata": {
    "colab": {
      "provenance": [],
      "authorship_tag": "ABX9TyOZTLHSnmi2/lM+DPzhM6dh",
      "include_colab_link": true
    },
    "kernelspec": {
      "name": "python3",
      "display_name": "Python 3"
    },
    "language_info": {
      "name": "python"
    }
  },
  "cells": [
    {
      "cell_type": "markdown",
      "metadata": {
        "id": "view-in-github",
        "colab_type": "text"
      },
      "source": [
        "<a href=\"https://colab.research.google.com/github/jagosipda/oss/blob/main/code.ipynb\" target=\"_parent\"><img src=\"https://colab.research.google.com/assets/colab-badge.svg\" alt=\"Open In Colab\"/></a>"
      ]
    },
    {
      "cell_type": "code",
      "execution_count": null,
      "metadata": {
        "colab": {
          "base_uri": "https://localhost:8080/"
        },
        "id": "CIv6tz27S1R3",
        "outputId": "a053043b-1f58-4737-8384-e59124632200"
      },
      "outputs": [
        {
          "output_type": "stream",
          "name": "stdout",
          "text": [
            "Overwriting mycalc/calculator.py\n"
          ]
        }
      ],
      "source": [
        "%%writefile mycalc/calculator.py\n",
        "# calculator.py\n",
        "def add (x, y):\n",
        "    return x + y\n",
        "\n",
        "def subtract (x, y):\n",
        "    return x - y"
      ]
    },
    {
      "cell_type": "code",
      "source": [
        "%%writefile setup.py\n",
        "import setuptools\n",
        "\n",
        "setuptools.setup(\n",
        "      name = 'GOEUN',\n",
        "      version = '0.0.1',\n",
        "      description='my calculator',\n",
        "      author = 'sejinchun',\n",
        "      url = 'https://github.com/GOEUN/mycalc',\n",
        "      download_url = 'https://guthub.com/GOEUN/mycalc/',\n",
        "      packages = [ 'mycalc' ],\n",
        "      classifiers = [\n",
        "          \"Programming Language :: Python :: 3\",\n",
        "      ]\n",
        ")"
      ],
      "metadata": {
        "colab": {
          "base_uri": "https://localhost:8080/"
        },
        "id": "EIzN4i2BTvDw",
        "outputId": "d1886fd2-9b89-41e6-bccd-049fedeb326f"
      },
      "execution_count": null,
      "outputs": [
        {
          "output_type": "stream",
          "name": "stdout",
          "text": [
            "Overwriting setup.py\n"
          ]
        }
      ]
    },
    {
      "cell_type": "code",
      "source": [
        "!pip install wheel\n",
        "# package installer를 만드는 것(pip)"
      ],
      "metadata": {
        "colab": {
          "base_uri": "https://localhost:8080/"
        },
        "id": "N1srNNy4X3JX",
        "outputId": "4fd5a20f-9b01-4685-ba36-360456df1014"
      },
      "execution_count": null,
      "outputs": [
        {
          "output_type": "stream",
          "name": "stdout",
          "text": [
            "Looking in indexes: https://pypi.org/simple, https://us-python.pkg.dev/colab-wheels/public/simple/\n",
            "Requirement already satisfied: wheel in /usr/local/lib/python3.9/dist-packages (0.40.0)\n"
          ]
        }
      ]
    },
    {
      "cell_type": "code",
      "source": [
        "!pip install twine\n",
        "# 만들어진 installer를 PyPI에 게시 하는 것"
      ],
      "metadata": {
        "colab": {
          "base_uri": "https://localhost:8080/"
        },
        "id": "C2gfpRvRVeQW",
        "outputId": "ecfd5979-8e20-4487-ea36-fde300f06ba6"
      },
      "execution_count": null,
      "outputs": [
        {
          "output_type": "stream",
          "name": "stdout",
          "text": [
            "Looking in indexes: https://pypi.org/simple, https://us-python.pkg.dev/colab-wheels/public/simple/\n",
            "Requirement already satisfied: twine in /usr/local/lib/python3.9/dist-packages (4.0.2)\n",
            "Requirement already satisfied: readme-renderer>=35.0 in /usr/local/lib/python3.9/dist-packages (from twine) (37.3)\n",
            "Requirement already satisfied: requests-toolbelt!=0.9.0,>=0.8.0 in /usr/local/lib/python3.9/dist-packages (from twine) (0.10.1)\n",
            "Requirement already satisfied: requests>=2.20 in /usr/local/lib/python3.9/dist-packages (from twine) (2.27.1)\n",
            "Requirement already satisfied: rich>=12.0.0 in /usr/local/lib/python3.9/dist-packages (from twine) (13.3.3)\n",
            "Requirement already satisfied: keyring>=15.1 in /usr/local/lib/python3.9/dist-packages (from twine) (23.13.1)\n",
            "Requirement already satisfied: rfc3986>=1.4.0 in /usr/local/lib/python3.9/dist-packages (from twine) (2.0.0)\n",
            "Requirement already satisfied: urllib3>=1.26.0 in /usr/local/lib/python3.9/dist-packages (from twine) (1.26.15)\n",
            "Requirement already satisfied: pkginfo>=1.8.1 in /usr/local/lib/python3.9/dist-packages (from twine) (1.9.6)\n",
            "Requirement already satisfied: importlib-metadata>=3.6 in /usr/local/lib/python3.9/dist-packages (from twine) (6.1.0)\n",
            "Requirement already satisfied: zipp>=0.5 in /usr/local/lib/python3.9/dist-packages (from importlib-metadata>=3.6->twine) (3.15.0)\n",
            "Requirement already satisfied: SecretStorage>=3.2 in /usr/local/lib/python3.9/dist-packages (from keyring>=15.1->twine) (3.3.3)\n",
            "Requirement already satisfied: jaraco.classes in /usr/local/lib/python3.9/dist-packages (from keyring>=15.1->twine) (3.2.3)\n",
            "Requirement already satisfied: jeepney>=0.4.2 in /usr/local/lib/python3.9/dist-packages (from keyring>=15.1->twine) (0.8.0)\n",
            "Requirement already satisfied: docutils>=0.13.1 in /usr/local/lib/python3.9/dist-packages (from readme-renderer>=35.0->twine) (0.16)\n",
            "Requirement already satisfied: Pygments>=2.5.1 in /usr/local/lib/python3.9/dist-packages (from readme-renderer>=35.0->twine) (2.14.0)\n",
            "Requirement already satisfied: bleach>=2.1.0 in /usr/local/lib/python3.9/dist-packages (from readme-renderer>=35.0->twine) (6.0.0)\n",
            "Requirement already satisfied: certifi>=2017.4.17 in /usr/local/lib/python3.9/dist-packages (from requests>=2.20->twine) (2022.12.7)\n",
            "Requirement already satisfied: charset-normalizer~=2.0.0 in /usr/local/lib/python3.9/dist-packages (from requests>=2.20->twine) (2.0.12)\n",
            "Requirement already satisfied: idna<4,>=2.5 in /usr/local/lib/python3.9/dist-packages (from requests>=2.20->twine) (3.4)\n",
            "Requirement already satisfied: markdown-it-py<3.0.0,>=2.2.0 in /usr/local/lib/python3.9/dist-packages (from rich>=12.0.0->twine) (2.2.0)\n",
            "Requirement already satisfied: webencodings in /usr/local/lib/python3.9/dist-packages (from bleach>=2.1.0->readme-renderer>=35.0->twine) (0.5.1)\n",
            "Requirement already satisfied: six>=1.9.0 in /usr/local/lib/python3.9/dist-packages (from bleach>=2.1.0->readme-renderer>=35.0->twine) (1.16.0)\n",
            "Requirement already satisfied: mdurl~=0.1 in /usr/local/lib/python3.9/dist-packages (from markdown-it-py<3.0.0,>=2.2.0->rich>=12.0.0->twine) (0.1.2)\n",
            "Requirement already satisfied: cryptography>=2.0 in /usr/local/lib/python3.9/dist-packages (from SecretStorage>=3.2->keyring>=15.1->twine) (40.0.1)\n",
            "Requirement already satisfied: more-itertools in /usr/local/lib/python3.9/dist-packages (from jaraco.classes->keyring>=15.1->twine) (9.1.0)\n",
            "Requirement already satisfied: cffi>=1.12 in /usr/local/lib/python3.9/dist-packages (from cryptography>=2.0->SecretStorage>=3.2->keyring>=15.1->twine) (1.15.1)\n",
            "Requirement already satisfied: pycparser in /usr/local/lib/python3.9/dist-packages (from cffi>=1.12->cryptography>=2.0->SecretStorage>=3.2->keyring>=15.1->twine) (2.21)\n"
          ]
        }
      ]
    },
    {
      "cell_type": "code",
      "source": [
        "!python setup.py bdist_wheel"
      ],
      "metadata": {
        "colab": {
          "base_uri": "https://localhost:8080/"
        },
        "id": "4zDndQs7Vma2",
        "outputId": "df913e56-af5e-4a78-917b-0202ba244786"
      },
      "execution_count": null,
      "outputs": [
        {
          "output_type": "stream",
          "name": "stdout",
          "text": [
            "running bdist_wheel\n",
            "running build\n",
            "running build_py\n",
            "package init file 'mycalc/__init__.py' not found (or not a regular file)\n",
            "creating build\n",
            "creating build/lib\n",
            "creating build/lib/mycalc\n",
            "copying mycalc/calcylator.py -> build/lib/mycalc\n",
            "/usr/local/lib/python3.9/dist-packages/setuptools/command/install.py:34: SetuptoolsDeprecationWarning: setup.py install is deprecated. Use build and pip and other standards-based tools.\n",
            "  warnings.warn(\n",
            "installing to build/bdist.linux-x86_64/wheel\n",
            "running install\n",
            "running install_lib\n",
            "creating build/bdist.linux-x86_64\n",
            "creating build/bdist.linux-x86_64/wheel\n",
            "creating build/bdist.linux-x86_64/wheel/mycalc\n",
            "copying build/lib/mycalc/calcylator.py -> build/bdist.linux-x86_64/wheel/mycalc\n",
            "running install_egg_info\n",
            "running egg_info\n",
            "creating GOEUN.egg-info\n",
            "writing GOEUN.egg-info/PKG-INFO\n",
            "writing dependency_links to GOEUN.egg-info/dependency_links.txt\n",
            "writing top-level names to GOEUN.egg-info/top_level.txt\n",
            "writing manifest file 'GOEUN.egg-info/SOURCES.txt'\n",
            "reading manifest file 'GOEUN.egg-info/SOURCES.txt'\n",
            "writing manifest file 'GOEUN.egg-info/SOURCES.txt'\n",
            "Copying GOEUN.egg-info to build/bdist.linux-x86_64/wheel/GOEUN-0.0.1-py3.9.egg-info\n",
            "running install_scripts\n",
            "creating build/bdist.linux-x86_64/wheel/GOEUN-0.0.1.dist-info/WHEEL\n",
            "creating 'dist/GOEUN-0.0.1-py3-none-any.whl' and adding 'build/bdist.linux-x86_64/wheel' to it\n",
            "adding 'mycalc/calcylator.py'\n",
            "adding 'GOEUN-0.0.1.dist-info/METADATA'\n",
            "adding 'GOEUN-0.0.1.dist-info/WHEEL'\n",
            "adding 'GOEUN-0.0.1.dist-info/top_level.txt'\n",
            "adding 'GOEUN-0.0.1.dist-info/RECORD'\n",
            "removing build/bdist.linux-x86_64/wheel\n"
          ]
        }
      ]
    },
    {
      "cell_type": "code",
      "source": [
        "!twine upload -u GOEUN -p asajrae5067 /content/dist/GOEUN-0.0.1-py3-none-any.whl"
      ],
      "metadata": {
        "colab": {
          "base_uri": "https://localhost:8080/"
        },
        "id": "HZOUncoxcrCy",
        "outputId": "f437661c-0ee8-4832-844f-a888632451b7"
      },
      "execution_count": null,
      "outputs": [
        {
          "output_type": "stream",
          "name": "stdout",
          "text": [
            "Uploading distributions to https://upload.pypi.org/legacy/\n",
            "Uploading GOEUN-0.0.1-py3-none-any.whl\n",
            "\u001b[2K\u001b[35m100%\u001b[0m \u001b[90m━━━━━━━━━━━━━━━━━━━━━━━━━━━━━━━━━━━━━━━━\u001b[0m \u001b[32m4.1/4.1 kB\u001b[0m • \u001b[33m00:00\u001b[0m • \u001b[31m?\u001b[0m\n",
            "\u001b[?25h\n",
            "\u001b[32mView at:\u001b[0m\n",
            "https://pypi.org/project/GOEUN/0.0.1/\n"
          ]
        }
      ]
    },
    {
      "cell_type": "code",
      "source": [
        "pip install GOEUN==0.0.1"
      ],
      "metadata": {
        "colab": {
          "base_uri": "https://localhost:8080/"
        },
        "id": "MxcmHMTGelxy",
        "outputId": "32c561a2-a229-4ce6-e2d4-bd9d32b99946"
      },
      "execution_count": null,
      "outputs": [
        {
          "output_type": "stream",
          "name": "stdout",
          "text": [
            "Looking in indexes: https://pypi.org/simple, https://us-python.pkg.dev/colab-wheels/public/simple/\n",
            "Requirement already satisfied: GOEUN==0.0.1 in /usr/local/lib/python3.9/dist-packages (0.0.1)\n"
          ]
        }
      ]
    },
    {
      "cell_type": "code",
      "source": [
        "import mycalc\n",
        "from mycalc import calculator"
      ],
      "metadata": {
        "id": "teHnP7FLevn_"
      },
      "execution_count": null,
      "outputs": []
    },
    {
      "cell_type": "code",
      "source": [
        "v = calculator.add(7,3)\n",
        "v"
      ],
      "metadata": {
        "colab": {
          "base_uri": "https://localhost:8080/"
        },
        "id": "84w1-619e7lV",
        "outputId": "4438019f-b088-4647-d235-417bc2f4a57d"
      },
      "execution_count": null,
      "outputs": [
        {
          "output_type": "execute_result",
          "data": {
            "text/plain": [
              "10"
            ]
          },
          "metadata": {},
          "execution_count": 38
        }
      ]
    },
    {
      "cell_type": "code",
      "source": [
        "print(arr)"
      ],
      "metadata": {
        "id": "rn5OjNYVfEKE"
      },
      "execution_count": null,
      "outputs": []
    }
  ]
}